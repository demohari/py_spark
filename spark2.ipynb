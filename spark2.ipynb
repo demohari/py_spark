{
 "cells": [
  {
   "cell_type": "code",
   "execution_count": 1,
   "metadata": {},
   "outputs": [
    {
     "name": "stderr",
     "output_type": "stream",
     "text": [
      "Setting default log level to \"WARN\".\n",
      "To adjust logging level use sc.setLogLevel(newLevel). For SparkR, use setLogLevel(newLevel).\n",
      "23/04/06 08:20:08 WARN NativeCodeLoader: Unable to load native-hadoop library for your platform... using builtin-java classes where applicable\n",
      "23/04/06 08:20:09 WARN Utils: Service 'SparkUI' could not bind on port 4040. Attempting port 4041.\n"
     ]
    }
   ],
   "source": [
    "from pyspark.sql import SparkSession\n",
    "from pyspark.sql.types import StructType,StructField, StringType, IntegerType\n",
    "spark = SparkSession.builder.appName(\"demo\").getOrCreate()"
   ]
  },
  {
   "cell_type": "code",
   "execution_count": 2,
   "metadata": {},
   "outputs": [
    {
     "data": {
      "text/plain": [
       "'3.2.1'"
      ]
     },
     "execution_count": 2,
     "metadata": {},
     "output_type": "execute_result"
    }
   ],
   "source": [
    "spark.version"
   ]
  },
  {
   "cell_type": "code",
   "execution_count": 21,
   "metadata": {},
   "outputs": [
    {
     "name": "stdout",
     "output_type": "stream",
     "text": [
      "dbs : [Database(name='default', description='default database', locationUri='file:/config/workspace/spark-warehouse')]\n",
      "tbls : []\n"
     ]
    }
   ],
   "source": [
    "\n",
    "# Get metadata from the Catalog\n",
    "# List databases\n",
    "dbs = spark.catalog.listDatabases()\n",
    "print(f\"dbs : {dbs}\")\n",
    "\n",
    "# Output\n",
    "#[Database(name='default', description='default database', \n",
    "#locationUri='file:/Users/admin/.spyder-py3/spark-warehouse')]\n",
    "\n",
    "# List Tables\n",
    "tbls = spark.catalog.listTables()\n",
    "print(f\"tbls : {tbls}\")"
   ]
  },
  {
   "cell_type": "code",
   "execution_count": 20,
   "metadata": {},
   "outputs": [
    {
     "data": {
      "text/html": [
       "\n",
       "            <div>\n",
       "                <p><b>SparkSession - in-memory</b></p>\n",
       "                \n",
       "        <div>\n",
       "            <p><b>SparkContext</b></p>\n",
       "\n",
       "            <p><a href=\"http://d8921e3ce51c:4041\">Spark UI</a></p>\n",
       "\n",
       "            <dl>\n",
       "              <dt>Version</dt>\n",
       "                <dd><code>v3.2.1</code></dd>\n",
       "              <dt>Master</dt>\n",
       "                <dd><code>local[*]</code></dd>\n",
       "              <dt>AppName</dt>\n",
       "                <dd><code>demo</code></dd>\n",
       "            </dl>\n",
       "        </div>\n",
       "        \n",
       "            </div>\n",
       "        "
      ],
      "text/plain": [
       "<pyspark.sql.session.SparkSession at 0x7f73f4167700>"
      ]
     },
     "execution_count": 20,
     "metadata": {},
     "output_type": "execute_result"
    }
   ],
   "source": [
    "spark"
   ]
  },
  {
   "cell_type": "code",
   "execution_count": 3,
   "metadata": {},
   "outputs": [],
   "source": [
    "df=spark.read.csv('/config/workspace/titanic.csv',inferSchema=True,header=True)"
   ]
  },
  {
   "cell_type": "code",
   "execution_count": 4,
   "metadata": {},
   "outputs": [
    {
     "name": "stdout",
     "output_type": "stream",
     "text": [
      "+---+------+--------------------+------+----+-----+-----+----------------+-------+-----+--------+--------+\n",
      "| Id|Pclass|                Name|Gender| Age|SibSp|Parch|          Ticket|   Fare|Cabin|Embarked|Survived|\n",
      "+---+------+--------------------+------+----+-----+-----+----------------+-------+-----+--------+--------+\n",
      "|  1|     3|Braund, Mr. Owen ...|  male|22.0|    1|    0|       A/5 21171|   7.25| null|       S|       0|\n",
      "|  2|     1|Cumings, Mrs. Joh...|female|38.0|    1|    0|        PC 17599|71.2833|  C85|       C|       1|\n",
      "|  3|     3|Heikkinen, Miss. ...|female|26.0|    0|    0|STON/O2. 3101282|  7.925| null|       S|       1|\n",
      "|  4|     1|Futrelle, Mrs. Ja...|female|35.0|    1|    0|          113803|   53.1| C123|       S|       1|\n",
      "|  5|     3|Allen, Mr. Willia...|  male|35.0|    0|    0|          373450|   8.05| null|       S|       0|\n",
      "+---+------+--------------------+------+----+-----+-----+----------------+-------+-----+--------+--------+\n",
      "only showing top 5 rows\n",
      "\n"
     ]
    }
   ],
   "source": [
    "df.show(5)"
   ]
  },
  {
   "cell_type": "code",
   "execution_count": 5,
   "metadata": {},
   "outputs": [
    {
     "name": "stdout",
     "output_type": "stream",
     "text": [
      "root\n",
      " |-- Id: integer (nullable = true)\n",
      " |-- Pclass: integer (nullable = true)\n",
      " |-- Name: string (nullable = true)\n",
      " |-- Gender: string (nullable = true)\n",
      " |-- Age: double (nullable = true)\n",
      " |-- SibSp: integer (nullable = true)\n",
      " |-- Parch: integer (nullable = true)\n",
      " |-- Ticket: string (nullable = true)\n",
      " |-- Fare: double (nullable = true)\n",
      " |-- Cabin: string (nullable = true)\n",
      " |-- Embarked: string (nullable = true)\n",
      " |-- Survived: integer (nullable = true)\n",
      "\n"
     ]
    }
   ],
   "source": [
    "df.printSchema()"
   ]
  },
  {
   "cell_type": "code",
   "execution_count": 6,
   "metadata": {},
   "outputs": [
    {
     "name": "stdout",
     "output_type": "stream",
     "text": [
      "+----------------+-------+\n",
      "|          Ticket|   Fare|\n",
      "+----------------+-------+\n",
      "|       A/5 21171|   7.25|\n",
      "|        PC 17599|71.2833|\n",
      "|STON/O2. 3101282|  7.925|\n",
      "|          113803|   53.1|\n",
      "|          373450|   8.05|\n",
      "|          330877| 8.4583|\n",
      "|           17463|51.8625|\n",
      "|          349909| 21.075|\n",
      "|          347742|11.1333|\n",
      "|          237736|30.0708|\n",
      "|         PP 9549|   16.7|\n",
      "|          113783|  26.55|\n",
      "|       A/5. 2151|   8.05|\n",
      "|          347082| 31.275|\n",
      "|          350406| 7.8542|\n",
      "|          248706|   16.0|\n",
      "|          382652| 29.125|\n",
      "|          244373|   13.0|\n",
      "|          345763|   18.0|\n",
      "|            2649|  7.225|\n",
      "+----------------+-------+\n",
      "only showing top 20 rows\n",
      "\n"
     ]
    }
   ],
   "source": [
    "df.select(df[\"Ticket\"],df[\"Fare\"]).show()"
   ]
  },
  {
   "cell_type": "code",
   "execution_count": 7,
   "metadata": {},
   "outputs": [],
   "source": [
    "from pyspark.sql.functions import col"
   ]
  },
  {
   "cell_type": "code",
   "execution_count": 8,
   "metadata": {},
   "outputs": [
    {
     "name": "stdout",
     "output_type": "stream",
     "text": [
      "+----------------+-------+\n",
      "|          Ticket|   Fare|\n",
      "+----------------+-------+\n",
      "|       A/5 21171|   7.25|\n",
      "|        PC 17599|71.2833|\n",
      "|STON/O2. 3101282|  7.925|\n",
      "|          113803|   53.1|\n",
      "|          373450|   8.05|\n",
      "|          330877| 8.4583|\n",
      "|           17463|51.8625|\n",
      "|          349909| 21.075|\n",
      "|          347742|11.1333|\n",
      "|          237736|30.0708|\n",
      "|         PP 9549|   16.7|\n",
      "|          113783|  26.55|\n",
      "|       A/5. 2151|   8.05|\n",
      "|          347082| 31.275|\n",
      "|          350406| 7.8542|\n",
      "|          248706|   16.0|\n",
      "|          382652| 29.125|\n",
      "|          244373|   13.0|\n",
      "|          345763|   18.0|\n",
      "|            2649|  7.225|\n",
      "+----------------+-------+\n",
      "only showing top 20 rows\n",
      "\n"
     ]
    }
   ],
   "source": [
    "df.select(col(\"Ticket\"),col(\"Fare\")).show()"
   ]
  },
  {
   "cell_type": "code",
   "execution_count": 9,
   "metadata": {},
   "outputs": [
    {
     "name": "stdout",
     "output_type": "stream",
     "text": [
      "+---+------+--------------------+------+----+-----+-----+----------------+-------+-----+--------+--------+\n",
      "| Id|Pclass|                Name|Gender| Age|SibSp|Parch|          Ticket|   Fare|Cabin|Embarked|Survived|\n",
      "+---+------+--------------------+------+----+-----+-----+----------------+-------+-----+--------+--------+\n",
      "|  1|     3|Braund, Mr. Owen ...|  male|22.0|    1|    0|       A/5 21171|   7.25| null|       S|       0|\n",
      "|  2|     1|Cumings, Mrs. Joh...|female|38.0|    1|    0|        PC 17599|71.2833|  C85|       C|       1|\n",
      "|  3|     3|Heikkinen, Miss. ...|female|26.0|    0|    0|STON/O2. 3101282|  7.925| null|       S|       1|\n",
      "|  4|     1|Futrelle, Mrs. Ja...|female|35.0|    1|    0|          113803|   53.1| C123|       S|       1|\n",
      "|  5|     3|Allen, Mr. Willia...|  male|35.0|    0|    0|          373450|   8.05| null|       S|       0|\n",
      "|  6|     3|    Moran, Mr. James|  male|null|    0|    0|          330877| 8.4583| null|       Q|       0|\n",
      "|  7|     1|McCarthy, Mr. Tim...|  male|54.0|    0|    0|           17463|51.8625|  E46|       S|       0|\n",
      "|  8|     3|Palsson, Master. ...|  male| 2.0|    3|    1|          349909| 21.075| null|       S|       0|\n",
      "|  9|     3|Johnson, Mrs. Osc...|female|27.0|    0|    2|          347742|11.1333| null|       S|       1|\n",
      "| 10|     2|Nasser, Mrs. Nich...|female|14.0|    1|    0|          237736|30.0708| null|       C|       1|\n",
      "| 11|     3|Sandstrom, Miss. ...|female| 4.0|    1|    1|         PP 9549|   16.7|   G6|       S|       1|\n",
      "| 12|     1|Bonnell, Miss. El...|female|58.0|    0|    0|          113783|  26.55| C103|       S|       1|\n",
      "| 13|     3|Saundercock, Mr. ...|  male|20.0|    0|    0|       A/5. 2151|   8.05| null|       S|       0|\n",
      "| 14|     3|Andersson, Mr. An...|  male|39.0|    1|    5|          347082| 31.275| null|       S|       0|\n",
      "| 15|     3|Vestrom, Miss. Hu...|female|14.0|    0|    0|          350406| 7.8542| null|       S|       0|\n",
      "| 16|     2|Hewlett, Mrs. (Ma...|female|55.0|    0|    0|          248706|   16.0| null|       S|       1|\n",
      "| 17|     3|Rice, Master. Eugene|  male| 2.0|    4|    1|          382652| 29.125| null|       Q|       0|\n",
      "| 18|     2|Williams, Mr. Cha...|  male|null|    0|    0|          244373|   13.0| null|       S|       1|\n",
      "| 19|     3|Vander Planke, Mr...|female|31.0|    1|    0|          345763|   18.0| null|       S|       0|\n",
      "| 20|     3|Masselmani, Mrs. ...|female|null|    0|    0|            2649|  7.225| null|       C|       1|\n",
      "+---+------+--------------------+------+----+-----+-----+----------------+-------+-----+--------+--------+\n",
      "only showing top 20 rows\n",
      "\n"
     ]
    }
   ],
   "source": [
    "df.select(*df.columns).show()"
   ]
  },
  {
   "cell_type": "code",
   "execution_count": 10,
   "metadata": {},
   "outputs": [
    {
     "name": "stdout",
     "output_type": "stream",
     "text": [
      "+---+------+--------------------+------+----+-----+-----+----------------+-------+-----+--------+--------+\n",
      "| Id|Pclass|                Name|Gender| Age|SibSp|Parch|          Ticket|   Fare|Cabin|Embarked|Survived|\n",
      "+---+------+--------------------+------+----+-----+-----+----------------+-------+-----+--------+--------+\n",
      "|  1|     3|Braund, Mr. Owen ...|  male|22.0|    1|    0|       A/5 21171|   7.25| null|       S|       0|\n",
      "|  2|     1|Cumings, Mrs. Joh...|female|38.0|    1|    0|        PC 17599|71.2833|  C85|       C|       1|\n",
      "|  3|     3|Heikkinen, Miss. ...|female|26.0|    0|    0|STON/O2. 3101282|  7.925| null|       S|       1|\n",
      "|  4|     1|Futrelle, Mrs. Ja...|female|35.0|    1|    0|          113803|   53.1| C123|       S|       1|\n",
      "|  5|     3|Allen, Mr. Willia...|  male|35.0|    0|    0|          373450|   8.05| null|       S|       0|\n",
      "|  6|     3|    Moran, Mr. James|  male|null|    0|    0|          330877| 8.4583| null|       Q|       0|\n",
      "|  7|     1|McCarthy, Mr. Tim...|  male|54.0|    0|    0|           17463|51.8625|  E46|       S|       0|\n",
      "|  8|     3|Palsson, Master. ...|  male| 2.0|    3|    1|          349909| 21.075| null|       S|       0|\n",
      "|  9|     3|Johnson, Mrs. Osc...|female|27.0|    0|    2|          347742|11.1333| null|       S|       1|\n",
      "| 10|     2|Nasser, Mrs. Nich...|female|14.0|    1|    0|          237736|30.0708| null|       C|       1|\n",
      "| 11|     3|Sandstrom, Miss. ...|female| 4.0|    1|    1|         PP 9549|   16.7|   G6|       S|       1|\n",
      "| 12|     1|Bonnell, Miss. El...|female|58.0|    0|    0|          113783|  26.55| C103|       S|       1|\n",
      "| 13|     3|Saundercock, Mr. ...|  male|20.0|    0|    0|       A/5. 2151|   8.05| null|       S|       0|\n",
      "| 14|     3|Andersson, Mr. An...|  male|39.0|    1|    5|          347082| 31.275| null|       S|       0|\n",
      "| 15|     3|Vestrom, Miss. Hu...|female|14.0|    0|    0|          350406| 7.8542| null|       S|       0|\n",
      "| 16|     2|Hewlett, Mrs. (Ma...|female|55.0|    0|    0|          248706|   16.0| null|       S|       1|\n",
      "| 17|     3|Rice, Master. Eugene|  male| 2.0|    4|    1|          382652| 29.125| null|       Q|       0|\n",
      "| 18|     2|Williams, Mr. Cha...|  male|null|    0|    0|          244373|   13.0| null|       S|       1|\n",
      "| 19|     3|Vander Planke, Mr...|female|31.0|    1|    0|          345763|   18.0| null|       S|       0|\n",
      "| 20|     3|Masselmani, Mrs. ...|female|null|    0|    0|            2649|  7.225| null|       C|       1|\n",
      "+---+------+--------------------+------+----+-----+-----+----------------+-------+-----+--------+--------+\n",
      "only showing top 20 rows\n",
      "\n"
     ]
    }
   ],
   "source": [
    "df.select([col for col in df.columns]).show()"
   ]
  },
  {
   "cell_type": "code",
   "execution_count": 11,
   "metadata": {},
   "outputs": [
    {
     "name": "stdout",
     "output_type": "stream",
     "text": [
      "+---+------+--------------------+------+----+-----+-----+----------------+-------+-----+--------+--------+\n",
      "| Id|Pclass|                Name|Gender| Age|SibSp|Parch|          Ticket|   Fare|Cabin|Embarked|Survived|\n",
      "+---+------+--------------------+------+----+-----+-----+----------------+-------+-----+--------+--------+\n",
      "|  1|     3|Braund, Mr. Owen ...|  male|22.0|    1|    0|       A/5 21171|   7.25| null|       S|       0|\n",
      "|  2|     1|Cumings, Mrs. Joh...|female|38.0|    1|    0|        PC 17599|71.2833|  C85|       C|       1|\n",
      "|  3|     3|Heikkinen, Miss. ...|female|26.0|    0|    0|STON/O2. 3101282|  7.925| null|       S|       1|\n",
      "|  4|     1|Futrelle, Mrs. Ja...|female|35.0|    1|    0|          113803|   53.1| C123|       S|       1|\n",
      "|  5|     3|Allen, Mr. Willia...|  male|35.0|    0|    0|          373450|   8.05| null|       S|       0|\n",
      "|  6|     3|    Moran, Mr. James|  male|null|    0|    0|          330877| 8.4583| null|       Q|       0|\n",
      "|  7|     1|McCarthy, Mr. Tim...|  male|54.0|    0|    0|           17463|51.8625|  E46|       S|       0|\n",
      "|  8|     3|Palsson, Master. ...|  male| 2.0|    3|    1|          349909| 21.075| null|       S|       0|\n",
      "|  9|     3|Johnson, Mrs. Osc...|female|27.0|    0|    2|          347742|11.1333| null|       S|       1|\n",
      "| 10|     2|Nasser, Mrs. Nich...|female|14.0|    1|    0|          237736|30.0708| null|       C|       1|\n",
      "| 11|     3|Sandstrom, Miss. ...|female| 4.0|    1|    1|         PP 9549|   16.7|   G6|       S|       1|\n",
      "| 12|     1|Bonnell, Miss. El...|female|58.0|    0|    0|          113783|  26.55| C103|       S|       1|\n",
      "| 13|     3|Saundercock, Mr. ...|  male|20.0|    0|    0|       A/5. 2151|   8.05| null|       S|       0|\n",
      "| 14|     3|Andersson, Mr. An...|  male|39.0|    1|    5|          347082| 31.275| null|       S|       0|\n",
      "| 15|     3|Vestrom, Miss. Hu...|female|14.0|    0|    0|          350406| 7.8542| null|       S|       0|\n",
      "| 16|     2|Hewlett, Mrs. (Ma...|female|55.0|    0|    0|          248706|   16.0| null|       S|       1|\n",
      "| 17|     3|Rice, Master. Eugene|  male| 2.0|    4|    1|          382652| 29.125| null|       Q|       0|\n",
      "| 18|     2|Williams, Mr. Cha...|  male|null|    0|    0|          244373|   13.0| null|       S|       1|\n",
      "| 19|     3|Vander Planke, Mr...|female|31.0|    1|    0|          345763|   18.0| null|       S|       0|\n",
      "| 20|     3|Masselmani, Mrs. ...|female|null|    0|    0|            2649|  7.225| null|       C|       1|\n",
      "+---+------+--------------------+------+----+-----+-----+----------------+-------+-----+--------+--------+\n",
      "only showing top 20 rows\n",
      "\n"
     ]
    }
   ],
   "source": [
    "df.select(\"*\").show()"
   ]
  },
  {
   "cell_type": "markdown",
   "metadata": {},
   "source": [
    "# Select All columns from List\n",
    "df.select(*columns).show()\n",
    "\n",
    "# Select All columns\n",
    "df.select([col for col in df.columns]).show()\n",
    "df.select(\"*\").show()"
   ]
  },
  {
   "cell_type": "code",
   "execution_count": 13,
   "metadata": {},
   "outputs": [
    {
     "name": "stdout",
     "output_type": "stream",
     "text": [
      "+---+------+--------------------+\n",
      "| Id|Pclass|                Name|\n",
      "+---+------+--------------------+\n",
      "|  1|     3|Braund, Mr. Owen ...|\n",
      "|  2|     1|Cumings, Mrs. Joh...|\n",
      "|  3|     3|Heikkinen, Miss. ...|\n",
      "+---+------+--------------------+\n",
      "only showing top 3 rows\n",
      "\n",
      "+--------------------+------+\n",
      "|                Name|Gender|\n",
      "+--------------------+------+\n",
      "|Braund, Mr. Owen ...|  male|\n",
      "|Cumings, Mrs. Joh...|female|\n",
      "|Heikkinen, Miss. ...|female|\n",
      "+--------------------+------+\n",
      "only showing top 3 rows\n",
      "\n"
     ]
    }
   ],
   "source": [
    "#Selects first 3 columns and top 3 rows\n",
    "df.select(df.columns[:3]).show(3)\n",
    "\n",
    "#Selects columns 2 to 4  and top 3 rows\n",
    "df.select(df.columns[2:4]).show(3)"
   ]
  },
  {
   "cell_type": "code",
   "execution_count": 14,
   "metadata": {},
   "outputs": [
    {
     "name": "stdout",
     "output_type": "stream",
     "text": [
      "+---+------+--------------------+\n",
      "| Id|Pclass|                Name|\n",
      "+---+------+--------------------+\n",
      "|  1|     3|Braund, Mr. Owen ...|\n",
      "|  2|     1|Cumings, Mrs. Joh...|\n",
      "|  3|     3|Heikkinen, Miss. ...|\n",
      "|  4|     1|Futrelle, Mrs. Ja...|\n",
      "|  5|     3|Allen, Mr. Willia...|\n",
      "|  6|     3|    Moran, Mr. James|\n",
      "|  7|     1|McCarthy, Mr. Tim...|\n",
      "|  8|     3|Palsson, Master. ...|\n",
      "|  9|     3|Johnson, Mrs. Osc...|\n",
      "| 10|     2|Nasser, Mrs. Nich...|\n",
      "| 11|     3|Sandstrom, Miss. ...|\n",
      "| 12|     1|Bonnell, Miss. El...|\n",
      "| 13|     3|Saundercock, Mr. ...|\n",
      "| 14|     3|Andersson, Mr. An...|\n",
      "| 15|     3|Vestrom, Miss. Hu...|\n",
      "| 16|     2|Hewlett, Mrs. (Ma...|\n",
      "| 17|     3|Rice, Master. Eugene|\n",
      "| 18|     2|Williams, Mr. Cha...|\n",
      "| 19|     3|Vander Planke, Mr...|\n",
      "| 20|     3|Masselmani, Mrs. ...|\n",
      "+---+------+--------------------+\n",
      "only showing top 20 rows\n",
      "\n"
     ]
    }
   ],
   "source": [
    "df.select(df.columns[:3]).show()"
   ]
  },
  {
   "cell_type": "code",
   "execution_count": 15,
   "metadata": {},
   "outputs": [
    {
     "name": "stdout",
     "output_type": "stream",
     "text": [
      "+---+------+--------------------+------+----+\n",
      "| Id|Pclass|                Name|Gender| Age|\n",
      "+---+------+--------------------+------+----+\n",
      "|  1|     3|Braund, Mr. Owen ...|  male|22.0|\n",
      "|  2|     1|Cumings, Mrs. Joh...|female|38.0|\n",
      "|  3|     3|Heikkinen, Miss. ...|female|26.0|\n",
      "|  4|     1|Futrelle, Mrs. Ja...|female|35.0|\n",
      "|  5|     3|Allen, Mr. Willia...|  male|35.0|\n",
      "+---+------+--------------------+------+----+\n",
      "only showing top 5 rows\n",
      "\n"
     ]
    }
   ],
   "source": [
    "df.select(df.columns[0:5]).show(5)"
   ]
  },
  {
   "cell_type": "code",
   "execution_count": null,
   "metadata": {},
   "outputs": [],
   "source": []
  },
  {
   "cell_type": "code",
   "execution_count": null,
   "metadata": {},
   "outputs": [],
   "source": []
  },
  {
   "cell_type": "code",
   "execution_count": null,
   "metadata": {},
   "outputs": [],
   "source": []
  },
  {
   "cell_type": "code",
   "execution_count": 16,
   "metadata": {},
   "outputs": [
    {
     "name": "stdout",
     "output_type": "stream",
     "text": [
      "root\n",
      " |-- name: struct (nullable = true)\n",
      " |    |-- firstname: string (nullable = true)\n",
      " |    |-- middlename: string (nullable = true)\n",
      " |    |-- lastname: string (nullable = true)\n",
      " |-- state: string (nullable = true)\n",
      " |-- gender: string (nullable = true)\n",
      "\n"
     ]
    },
    {
     "name": "stderr",
     "output_type": "stream",
     "text": [
      "                                                                                \r"
     ]
    },
    {
     "name": "stdout",
     "output_type": "stream",
     "text": [
      "+----------------------+-----+------+\n",
      "|name                  |state|gender|\n",
      "+----------------------+-----+------+\n",
      "|{James, null, Smith}  |OH   |M     |\n",
      "|{Anna, Rose, }        |NY   |F     |\n",
      "|{Julia, , Williams}   |OH   |F     |\n",
      "|{Maria, Anne, Jones}  |NY   |M     |\n",
      "|{Jen, Mary, Brown}    |NY   |M     |\n",
      "|{Mike, Mary, Williams}|OH   |M     |\n",
      "+----------------------+-----+------+\n",
      "\n"
     ]
    }
   ],
   "source": [
    "data = [\n",
    "        ((\"James\",None,\"Smith\"),\"OH\",\"M\"),\n",
    "        ((\"Anna\",\"Rose\",\"\"),\"NY\",\"F\"),\n",
    "        ((\"Julia\",\"\",\"Williams\"),\"OH\",\"F\"),\n",
    "        ((\"Maria\",\"Anne\",\"Jones\"),\"NY\",\"M\"),\n",
    "        ((\"Jen\",\"Mary\",\"Brown\"),\"NY\",\"M\"),\n",
    "        ((\"Mike\",\"Mary\",\"Williams\"),\"OH\",\"M\")\n",
    "        ]\n",
    "\n",
    "from pyspark.sql.types import StructType,StructField, StringType        \n",
    "schema = StructType([\n",
    "    StructField('name', StructType([\n",
    "         StructField('firstname', StringType(), True),\n",
    "         StructField('middlename', StringType(), True),\n",
    "         StructField('lastname', StringType(), True)\n",
    "         ])),\n",
    "     StructField('state', StringType(), True),\n",
    "     StructField('gender', StringType(), True)\n",
    "     ])\n",
    "df2 = spark.createDataFrame(data = data, schema = schema)\n",
    "df2.printSchema()\n",
    "df2.show(truncate=False) # shows all columns"
   ]
  },
  {
   "cell_type": "code",
   "execution_count": 17,
   "metadata": {},
   "outputs": [
    {
     "name": "stdout",
     "output_type": "stream",
     "text": [
      "+----------------------+\n",
      "|name                  |\n",
      "+----------------------+\n",
      "|{James, null, Smith}  |\n",
      "|{Anna, Rose, }        |\n",
      "|{Julia, , Williams}   |\n",
      "|{Maria, Anne, Jones}  |\n",
      "|{Jen, Mary, Brown}    |\n",
      "|{Mike, Mary, Williams}|\n",
      "+----------------------+\n",
      "\n"
     ]
    }
   ],
   "source": [
    "df2.select(\"name\").show(truncate=False)"
   ]
  },
  {
   "cell_type": "code",
   "execution_count": 18,
   "metadata": {},
   "outputs": [
    {
     "name": "stdout",
     "output_type": "stream",
     "text": [
      "+---------+--------+\n",
      "|firstname|lastname|\n",
      "+---------+--------+\n",
      "|James    |Smith   |\n",
      "|Anna     |        |\n",
      "|Julia    |Williams|\n",
      "|Maria    |Jones   |\n",
      "|Jen      |Brown   |\n",
      "|Mike     |Williams|\n",
      "+---------+--------+\n",
      "\n"
     ]
    }
   ],
   "source": [
    "df2.select(\"name.firstname\",\"name.lastname\").show(truncate=False)"
   ]
  },
  {
   "cell_type": "code",
   "execution_count": 19,
   "metadata": {},
   "outputs": [
    {
     "name": "stdout",
     "output_type": "stream",
     "text": [
      "+---------+----------+--------+\n",
      "|firstname|middlename|lastname|\n",
      "+---------+----------+--------+\n",
      "|James    |null      |Smith   |\n",
      "|Anna     |Rose      |        |\n",
      "|Julia    |          |Williams|\n",
      "|Maria    |Anne      |Jones   |\n",
      "|Jen      |Mary      |Brown   |\n",
      "|Mike     |Mary      |Williams|\n",
      "+---------+----------+--------+\n",
      "\n"
     ]
    }
   ],
   "source": [
    "df2.select(\"name.*\").show(truncate=False)"
   ]
  },
  {
   "cell_type": "code",
   "execution_count": null,
   "metadata": {},
   "outputs": [],
   "source": []
  }
 ],
 "metadata": {
  "kernelspec": {
   "display_name": "Python 3.8.10 64-bit",
   "language": "python",
   "name": "python3"
  },
  "language_info": {
   "codemirror_mode": {
    "name": "ipython",
    "version": 3
   },
   "file_extension": ".py",
   "mimetype": "text/x-python",
   "name": "python",
   "nbconvert_exporter": "python",
   "pygments_lexer": "ipython3",
   "version": "3.8.10"
  },
  "orig_nbformat": 4,
  "vscode": {
   "interpreter": {
    "hash": "e7370f93d1d0cde622a1f8e1c04877d8463912d04d973331ad4851f04de6915a"
   }
  }
 },
 "nbformat": 4,
 "nbformat_minor": 2
}
